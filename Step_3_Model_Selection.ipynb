{
 "cells": [
  {
   "cell_type": "markdown",
   "metadata": {},
   "source": [
    "# Step 3 - Model Selection"
   ]
  },
  {
   "cell_type": "markdown",
   "metadata": {},
   "source": [
    "We started from the work done in the preprocessing. We have fixed the number of dimensions to be used with the reduction to 150, this seemed a good compromise between speed and variance explanation (see preprocessing notebook). <br>\n",
    "For computational ease we reduce the usage of the dataset to a little fraction, the entire dataset will be used to predict the \"unseen\" data later. <br>\n",
    "To proceed with the exercise we need to do the preprocessing again, so we put it here in one piece of code:\n"
   ]
  },
  {
   "cell_type": "code",
   "execution_count": 19,
   "metadata": {
    "collapsed": false
   },
   "outputs": [
    {
     "name": "stdout",
     "output_type": "stream",
     "text": [
      "[nltk_data] Downloading package wordnet to\n",
      "[nltk_data]     /home/INTRANET/mpietrob/nltk_data...\n",
      "[nltk_data]   Package wordnet is already up-to-date!\n",
      "Dictionary(6780 unique tokens: ['hard', 'believe', 'memory', 'tree', 'came']...)\n",
      "Starting dimensionality reduction\n",
      "Finished dimensionality reduction\n"
     ]
    }
   ],
   "source": [
    "import pandas as pd\n",
    "\n",
    "seed = 123\n",
    "\n",
    "df_complete = pd.read_json(path_or_buf = 'data/reviews_Digital_Music_5.json', lines=True)\n",
    "df = pd.DataFrame(df_complete[['asin', 'overall','reviewText']])\n",
    "df = df.ix[:2000,:]\n",
    "del df_complete\n",
    "\n",
    "five_stars = df['overall']\n",
    "\n",
    "df_refined=[]\n",
    "for item in df.ix[:,2]:\n",
    "    df_refined.append (item.replace('\\r',' ').replace('/n',' ').replace('.',' ')\\\n",
    "                           .replace(',',' ').replace('(',' ').replace(')',' ')\\\n",
    "                           .replace(\"'s\",' ').replace('\"',' ').replace('!',' ')\\\n",
    "                           .replace('?',' ').replace(\"'\",' ').replace('>',' ')\\\n",
    "                           .replace('$',' ').replace('-',' ').replace(';',' ')\\\n",
    "                           .replace(':',' ').replace('/',' ').replace('#',' '))\n",
    "    \n",
    "from gensim import corpora, models, matutils\n",
    "from gensim.parsing.preprocessing import STOPWORDS\n",
    "from nltk.stem import WordNetLemmatizer\n",
    "from nltk import download\n",
    "\n",
    "download('wordnet')\n",
    "\n",
    "tester = 1\n",
    "lemmatizer = WordNetLemmatizer()\n",
    "documents = df_refined\n",
    "\n",
    "# removing stopwords\n",
    "documents_no_stop = [[word for word in document.lower().split() if word not in STOPWORDS]\n",
    "         for document in documents]\n",
    "\n",
    "del documents\n",
    "\n",
    "# remove words that appear only once\n",
    "from collections import defaultdict\n",
    "threshold = 1 # frequency threshold\n",
    "frequency = defaultdict(int)\n",
    "for text in documents_no_stop:\n",
    "    for token in text:\n",
    "        frequency[token] += 1\n",
    "\n",
    "documents_no_stop_no_unique = [[token for token in text if frequency[token] > threshold] \n",
    "                               for text in documents_no_stop]\n",
    "\n",
    "del documents_no_stop\n",
    "\n",
    "# remove all numerics and tokens with numbers\n",
    "import re\n",
    "def hasNumbers(inputString):\n",
    "    return bool(re.search(r'\\d', inputString))\n",
    "documents_no_stop_no_unique_no_numeric = [[token for token in text if not (hasNumbers(token)) ] \n",
    "                                          for text in documents_no_stop_no_unique]\n",
    "\n",
    "del documents_no_stop_no_unique\n",
    "\n",
    "# lemmattizing tokens (better than stemming by taking word context into account)\n",
    "documents_no_stop_no_unique_no_numeric_lemmatize = [[lemmatizer.lemmatize(token) for token in text] \n",
    "                                                    for text in documents_no_stop_no_unique_no_numeric]\n",
    "\n",
    "del documents_no_stop_no_unique_no_numeric\n",
    "\n",
    "import enchant\n",
    "eng_dic = enchant.Dict(\"en_US\")\n",
    "\n",
    "# remove non-english words\n",
    "documents_no_stop_no_unique_no_numeric_lemmatize_english = [[token for token in text if (eng_dic.check(token)) ] \n",
    "                                                            for text in documents_no_stop_no_unique_no_numeric_lemmatize]\n",
    "\n",
    "del documents_no_stop_no_unique_no_numeric_lemmatize\n",
    "\n",
    "# create ready corpus\n",
    "ready_corpus = documents_no_stop_no_unique_no_numeric_lemmatize_english\n",
    "\n",
    "# build the dictionary and store it to disc for future use\n",
    "dictionary = corpora.Dictionary(ready_corpus)\n",
    "print(dictionary)\n",
    "\n",
    "# convert the corpus into bag of words \n",
    "corpus_bow = [dictionary.doc2bow(comment) for comment in ready_corpus]\n",
    "\n",
    "tfidf_transformer = models.TfidfModel(corpus_bow, normalize=True)\n",
    "\n",
    "# apply tfidf transformation to the bow corpus\n",
    "corpus_tfidf = tfidf_transformer [corpus_bow]\n",
    "\n",
    "# convert to a sparse and compatible format for dimensionality reduction using sklearn\n",
    "sparse_corpus_tfidf = matutils.corpus2csc(corpus_tfidf)\n",
    "sparse_corpus_tfidf_transpose = sparse_corpus_tfidf.transpose()\n",
    "\n",
    "from sklearn.model_selection import train_test_split\n",
    "train_tfidf, test_tfidf, train_category, test_category = train_test_split(sparse_corpus_tfidf_transpose,\\\n",
    "                                                                          df.ix[:,1], test_size = 0.2, random_state = seed)\n",
    "\n",
    "print('Starting dimensionality reduction')\n",
    "\n",
    "# reduce dimensions\n",
    "from sklearn.decomposition import KernelPCA\n",
    "\n",
    "reducer= KernelPCA(n_components = 150, kernel=\"cosine\", random_state=seed)\n",
    "corpus_train_tfidf_kpca = reducer.fit_transform(train_tfidf)\n",
    "corpus_test_tfidf_kpca = reducer.transform(test_tfidf)\n",
    "\n",
    "print('Finished dimensionality reduction')"
   ]
  },
  {
   "cell_type": "markdown",
   "metadata": {},
   "source": [
    "As we have already mentioned, managing imbalanced classes has been the biggest problem in steps 2 and 3. The first approach has been the one of changing scoring function because mean accuracy can be misleading in these situations. Therefore we developed our own scoring method computing the average absolute error in assigning the overall score to the comment. We define it in the following code and it will be used for both the 'GridSearchCV' and the model evaluation against the test data."
   ]
  },
  {
   "cell_type": "code",
   "execution_count": 20,
   "metadata": {
    "collapsed": false
   },
   "outputs": [
    {
     "name": "stdout",
     "output_type": "stream",
     "text": [
      "This matrix assigns a greater penalty the greater was the mis-classification:\n",
      "[[ 0 -1 -2 -3 -4]\n",
      " [-1  0 -1 -2 -3]\n",
      " [-2 -1  0 -1 -2]\n",
      " [-3 -2 -1  0 -1]\n",
      " [-4 -3 -2 -1  0]]\n",
      "\n",
      "Suppose that we wanted to assess the following:\n",
      "y_true:  [1 2 2 3 4 5 1 4]\n",
      "y_pred:  [1 2 4 3 1 5 1 3]\n",
      "\n",
      "We compute the confusion matrix of the prediction:\n",
      "[[2 0 0 0 0]\n",
      " [0 1 0 1 0]\n",
      " [0 0 1 0 0]\n",
      " [1 0 1 0 0]\n",
      " [0 0 0 0 1]]\n",
      "\n",
      "The two matrixes are multiplied element-wise to assess the goodness of the prediction:\n",
      "[[ 0  0  0  0  0]\n",
      " [ 0  0  0 -2  0]\n",
      " [ 0  0  0  0  0]\n",
      " [-3  0 -1  0  0]\n",
      " [ 0  0  0  0  0]]\n",
      "\n",
      "Finally, we summed the elements of the previous matrix and divided by the number of predictions.\n",
      "In this way we could compare our results for test stes of different sizes.\n",
      "The resulting score will be negative in general and equal to one only in the case of a perfect prediction.\n",
      "For this demo it was:  -0.75\n"
     ]
    }
   ],
   "source": [
    "from sklearn.metrics import confusion_matrix\n",
    "import numpy as np\n",
    "\n",
    "def our_scoring_function(y_true,y_pred):\n",
    "    penalties=np.zeros([5,5])\n",
    "    for i in np.arange(5):\n",
    "        for j in np.arange(5):\n",
    "            penalties[i,j]= -np.abs(i-j)\n",
    "    conf_mat = confusion_matrix(y_true, y_pred,labels=np.arange(1,6))/np.shape(y_true)[0]\n",
    "    return np.sum(penalties*conf_mat)\n",
    "    \n",
    "\n",
    "from sklearn.metrics import make_scorer\n",
    "our_scoring= make_scorer(our_scoring_function)\n",
    "\n",
    "# This part is just to show how the scoring function work, the steps are slightly changed, in this way it is easier\n",
    "# to understand.\n",
    "print('This matrix assigns a greater penalty the greater was the mis-classification:')\n",
    "penalties=np.zeros([5,5])\n",
    "for i in np.arange(5):\n",
    "    for j in np.arange(5):\n",
    "        penalties[i,j]= -np.abs(i-j)\n",
    "print(penalties.astype(int))\n",
    "\n",
    "y_true=np.array([1,2,2,3,4,5,1,4])\n",
    "y_pred=np.array([1,2,4,3,1,5,1,3])\n",
    "\n",
    "print('\\nSuppose that we wanted to assess the following:')\n",
    "print('y_true: ',y_true)\n",
    "print('y_pred: ',y_pred)\n",
    "\n",
    "print('\\nWe compute the confusion matrix of the prediction:')\n",
    "print(confusion_matrix(y_true, y_pred,labels=np.arange(1,6)).astype(int))\n",
    "\n",
    "print('\\nThe two matrixes are multiplied element-wise to assess the goodness of the prediction:')\n",
    "print((penalties*confusion_matrix(y_true, y_pred,labels=np.arange(1,6))).astype(int))\n",
    "\n",
    "print('\\nFinally, we summed the elements of the previous matrix and divided by the number of predictions.\\n\\\n",
    "In this way we could compare our results for test stes of different sizes.\\\n",
    "\\nThe resulting score will be negative in general and equal to one only in the case of a perfect prediction.\\n\\\n",
    "For this demo it was: ', our_scoring_function(y_true,y_pred))"
   ]
  },
  {
   "cell_type": "markdown",
   "metadata": {},
   "source": [
    "Changing the scoring function will influence the choice of hopefully better hyperparameters, the presence of imbalanced classes will still push some models to always predict 5 stars though. We thought a lot on how to deal with this issue, a possible solution could have been an undersample (oversample) of the train set to reduce this imbalance. It is implemented in the following lines."
   ]
  },
  {
   "cell_type": "code",
   "execution_count": 21,
   "metadata": {
    "collapsed": false
   },
   "outputs": [],
   "source": [
    "from imblearn.under_sampling import RandomUnderSampler\n",
    "\n",
    "under_sampler=RandomUnderSampler(ratio=0.1,random_state=seed)\n",
    "X_train_undersample, y_train_undersample = under_sampler.fit_sample(corpus_train_tfidf_kpca, train_category)"
   ]
  },
  {
   "cell_type": "markdown",
   "metadata": {},
   "source": [
    "In this way we removed part of the imbalance by reducing the ratio of the most numerous label (5-stars) vs least numerous (1-star) to a maximum of 10:1. By doing that indeed the models started to predict different labels more often, but their performance in the test set was greatly reduced. The decision tree and bagging models were the best using this strategy, but when we increased the size of the train set they became slower and the logistic regression had better results.<br>\n",
    "We did some research and found that several methods - especially the parametric models that we used - are already implemented with some corrections against imbalanced data. Indeed, once the train size was big enough, the logistic regression would as usual outperform all the others in both cases.<br>\n",
    "\n",
    "To achieve the best results we should have had used a training set with the same balance as the test set, however we have no idea about the distribution of the unseen data. In other situations we might have come up with some educated guesses, but here there was no way to find it so we just supposed that it was the same of the data we were given. As a conclusion we decided not to undersample our train set."
   ]
  },
  {
   "cell_type": "code",
   "execution_count": 22,
   "metadata": {
    "collapsed": false
   },
   "outputs": [
    {
     "name": "stdout",
     "output_type": "stream",
     "text": [
      "Dummy Classifier Test Performance: -0.832917705736\n"
     ]
    }
   ],
   "source": [
    "from sklearn.dummy import DummyClassifier\n",
    "\n",
    "X_train = corpus_train_tfidf_kpca \n",
    "X_test = corpus_test_tfidf_kpca\n",
    "y_train = train_category\n",
    "y_test = test_category\n",
    "\n",
    "dummy_clf = DummyClassifier(strategy='stratified', random_state = seed)\n",
    "dummy_clf.fit(X_train, y_train)\n",
    "score_dummy=our_scoring_function(y_test,dummy_clf.predict(X_test))\n",
    "\n",
    "print('Dummy Classifier Test Performance:', score_dummy)"
   ]
  },
  {
   "cell_type": "markdown",
   "metadata": {},
   "source": [
    "The dummy classifier will be our benchmark, with mean absolute error of 0.83. Now it is the time of KNN, the data did not look as well divided as in the first step so we did not expect a good performance."
   ]
  },
  {
   "cell_type": "code",
   "execution_count": 23,
   "metadata": {
    "collapsed": false
   },
   "outputs": [
    {
     "name": "stdout",
     "output_type": "stream",
     "text": [
      "Starting Grid Search\n"
     ]
    },
    {
     "data": {
      "image/png": "[encoded data removed]",
      "text/plain": [
       "<matplotlib.figure.Figure at 0x2b0a7f385860>"
      ]
     },
     "metadata": {},
     "output_type": "display_data"
    },
    {
     "name": "stdout",
     "output_type": "stream",
     "text": [
      "Best Number of Neighbors: 23\n",
      "\n",
      "Test score for KNN: -0.518703241895\n"
     ]
    }
   ],
   "source": [
    "import matplotlib.pyplot as plt\n",
    "import numpy as np\n",
    "import pandas as pd\n",
    "from sklearn.preprocessing import Normalizer\n",
    "from sklearn.pipeline import Pipeline\n",
    "from sklearn.model_selection import GridSearchCV\n",
    "from sklearn.model_selection import KFold\n",
    "from sklearn.neighbors import KNeighborsClassifier\n",
    "%matplotlib inline\n",
    "\n",
    "#Initialize K-Fold for cross validation\n",
    "K = 5\n",
    "kfold = KFold(n_splits=K, random_state=seed)\n",
    "\n",
    "#Create Pipeline\n",
    "estimators = []\n",
    "estimators.append(('Normalizer', Normalizer()))\n",
    "estimators.append(('knn_clf', KNeighborsClassifier()))\n",
    "reg_knn_pipe1 = Pipeline(estimators)\n",
    "reg_knn_pipe1.set_params(knn_clf__algorithm='ball_tree',knn_clf__weights='uniform')\n",
    "\n",
    "#Create a grid search over n_neighbors values\n",
    "parameters = {\n",
    "        'knn_clf__n_neighbors' : np.arange(5,30)\n",
    "}\n",
    "estimator_knnreg = GridSearchCV(reg_knn_pipe1, parameters,scoring=our_scoring, cv=kfold)\n",
    "                  \n",
    "#Evaluate the grid search and print best regressor\n",
    "print('Starting Grid Search')\n",
    "estimator_knnreg.fit(X_train, y_train)\n",
    "\n",
    "alphas = [x['knn_clf__n_neighbors'] for x in estimator_knnreg.cv_results_['params']]\n",
    "means = [x for x in estimator_knnreg.cv_results_['mean_test_score']]\n",
    "stds = [x for x in estimator_knnreg.cv_results_['std_test_score']]\n",
    "\n",
    "plt.figure(figsize=(8, 6))\n",
    "plt.errorbar(alphas, means, stds, fmt='o', lw=1)\n",
    "plt.plot(alphas, means)\n",
    "plt.xlabel('Neighbors')\n",
    "plt.ylabel('Mean cross validation score')\n",
    "plt.title('KNN')\n",
    "plt.show()\n",
    "\n",
    "reg_knn_pipe1.set_params(knn_clf__n_neighbors = estimator_knnreg.best_params_['knn_clf__n_neighbors'])\n",
    "reg_knn_pipe1.fit(X_train, y_train)\n",
    "\n",
    "print(\"Best Number of Neighbors:\", estimator_knnreg.best_params_['knn_clf__n_neighbors'])\n",
    "score_KNN=our_scoring_function(y_test,reg_knn_pipe1.predict(X_test))\n",
    "print ('\\nTest score for KNN:', score_KNN)"
   ]
  },
  {
   "cell_type": "markdown",
   "metadata": {},
   "source": [
    "It was better than the dummy classifier but when we increased the number of observations its learning curve was quite flat. Now it is the turn of the decision trees."
   ]
  },
  {
   "cell_type": "code",
   "execution_count": 24,
   "metadata": {
    "collapsed": false
   },
   "outputs": [
    {
     "data": {
      "image/png": "[encoded data removed]",
      "text/plain": [
       "<matplotlib.figure.Figure at 0x2b0a7f8bf940>"
      ]
     },
     "metadata": {},
     "output_type": "display_data"
    },
    {
     "name": "stdout",
     "output_type": "stream",
     "text": [
      "\n",
      "Best max depth --->    1\n",
      "\n",
      "Test score for basic decision tree --->    -0.518703241895\n"
     ]
    },
    {
     "data": {
      "image/png": "[encoded data removed]",
      "text/plain": [
       "<matplotlib.figure.Figure at 0x2b0a826f20f0>"
      ]
     },
     "metadata": {},
     "output_type": "display_data"
    },
    {
     "name": "stdout",
     "output_type": "stream",
     "text": [
      "\n",
      "Bagging Test score --->    -0.518703241895\n"
     ]
    }
   ],
   "source": [
    "from sklearn.ensemble import BaggingClassifier\n",
    "from sklearn import tree\n",
    "import seaborn as sns\n",
    "\n",
    "\n",
    "n_tried=15\n",
    "depths=np.arange(1,n_tried)\n",
    "\n",
    "estimators = []\n",
    "estimators.append(('Normalizer', Normalizer()))\n",
    "estimators.append(('tree_cla', tree.DecisionTreeClassifier(random_state=seed)))\n",
    "cla_tree_pipe1 = Pipeline(estimators)\n",
    "\n",
    "parameters = {\n",
    "        'tree_cla__max_depth' : depths\n",
    "}\n",
    "estimator_treecla = GridSearchCV(cla_tree_pipe1, parameters,scoring=our_scoring, cv=kfold)\n",
    "                  \n",
    "# evaluate the grid search and print best classifier\n",
    "estimator_treecla.fit(X_train, y_train)\n",
    "\n",
    "alphas = [x['tree_cla__max_depth'] for x in estimator_treecla.cv_results_['params']]\n",
    "means = [x for x in estimator_treecla.cv_results_['mean_test_score']]\n",
    "stds = [x for x in estimator_treecla.cv_results_['std_test_score']]\n",
    "\n",
    "plt.figure(figsize=(8, 6))\n",
    "plt.errorbar(alphas, means, stds, fmt='o', lw=1)\n",
    "plt.plot(alphas, means)\n",
    "plt.xlabel('max depth')\n",
    "plt.ylabel('mean cross-validated score')\n",
    "plt.title('Decision Tree')\n",
    "plt.show()\n",
    "\n",
    "print('\\nBest max depth --->   ',estimator_treecla.best_params_['tree_cla__max_depth'])\n",
    "\n",
    "cla_tree_pipe1.set_params(tree_cla__max_depth = estimator_treecla.best_params_['tree_cla__max_depth'])\n",
    "cla_tree_pipe1.fit(X_train, y_train)\n",
    "score_tree=our_scoring_function(y_test,cla_tree_pipe1.predict(X_test))\n",
    "print ('\\nTest score for basic decision tree --->   ', score_tree)\n",
    "importances = cla_tree_pipe1.named_steps['tree_cla'].feature_importances_\n",
    "indices = np.argsort(importances)[::-1]\n",
    "\n",
    "\n",
    "# Plot the feature importances\n",
    "plt.figure(figsize=(8, 6))\n",
    "plt.title(\"Feature importances\")\n",
    "sns.barplot(indices, y=importances[indices])\n",
    "plt.show()\n",
    "\n",
    "\n",
    "estimators = []\n",
    "estimators.append(('Normalizer', Normalizer()))\n",
    "estimators.append(('bag_cla', BaggingClassifier()))\n",
    "cla_bag_pipe1 = Pipeline(estimators)\n",
    "cla_bag_pipe1.set_params(bag_cla__base_estimator=tree.DecisionTreeClassifier(max_depth=estimator_treecla.best_params_['tree_cla__max_depth']),\\\n",
    "                         bag_cla__n_estimators=500, bag_cla__random_state=seed)\n",
    "\n",
    "cla_bag_pipe1.fit(X_train,y_train)\n",
    "score_bagging=our_scoring_function(y_test,cla_bag_pipe1.predict(X_test))\n",
    "print ('\\nBagging Test score --->   ', score_bagging)"
   ]
  },
  {
   "cell_type": "markdown",
   "metadata": {},
   "source": [
    "As we had anticipated the performance of these models is heavily influenced by the balance of the data. It is also evident that they are not using all the information provided (we plotted the 'feature importances'). That might explain the better performance of parametric methods."
   ]
  },
  {
   "cell_type": "code",
   "execution_count": 25,
   "metadata": {
    "collapsed": false
   },
   "outputs": [
    {
     "data": {
      "image/png": "[encoded data removed]",
      "text/plain": [
       "<matplotlib.figure.Figure at 0x2b0a901cee80>"
      ]
     },
     "metadata": {},
     "output_type": "display_data"
    },
    {
     "name": "stdout",
     "output_type": "stream",
     "text": [
      "\n",
      "Best penalty for linear kernel --->    1e-05\n",
      "\n",
      "Linear kernel test score --->    -0.518703241895\n"
     ]
    },
    {
     "data": {
      "image/png": "[encoded data removed]",
      "text/plain": [
       "<matplotlib.figure.Figure at 0x2b0a90640780>"
      ]
     },
     "metadata": {},
     "output_type": "display_data"
    },
    {
     "name": "stdout",
     "output_type": "stream",
     "text": [
      "\n",
      "Best penalty for Gaussian kernel --->    1e-05\n",
      "\n",
      "Test score --->    -0.518703241895\n"
     ]
    },
    {
     "data": {
      "image/png": "[encoded data removed]",
      "text/plain": [
       "<matplotlib.figure.Figure at 0x2b0a727b68d0>"
      ]
     },
     "metadata": {},
     "output_type": "display_data"
    },
    {
     "name": "stdout",
     "output_type": "stream",
     "text": [
      "\n",
      "Best penalty for Logistic Regression --->    10.0\n",
      "\n",
      "Logistic regression test score --->    -0.483790523691\n"
     ]
    }
   ],
   "source": [
    "from sklearn.linear_model import LogisticRegression\n",
    "from sklearn.svm import SVC\n",
    "                  \n",
    "\n",
    "# LINEAR KERNEL\n",
    "estimators = []\n",
    "estimators.append(('normalizer', Normalizer()))\n",
    "estimators.append(('svm_linear_clf', SVC()))\n",
    "svm_linear_pipe1 = Pipeline(estimators)\n",
    "svm_linear_pipe1.set_params(svm_linear_clf__kernel='linear', svm_linear_clf__gamma='auto')\n",
    "\n",
    "penalties = np.logspace(-5,3,5)\n",
    "\n",
    "\n",
    "parameters = {\n",
    "        'svm_linear_clf__C' : penalties\n",
    "}\n",
    "estimator_svm_linear = GridSearchCV(svm_linear_pipe1, parameters,scoring=our_scoring, cv=kfold)\n",
    "                  \n",
    "# evaluate the grid search and print best classifier\n",
    "estimator_svm_linear.fit(X_train,y_train)\n",
    "\n",
    "alphas = [x['svm_linear_clf__C'] for x in estimator_svm_linear.cv_results_['params']]\n",
    "means = [x for x in estimator_svm_linear.cv_results_['mean_test_score']]\n",
    "stds = [x for x in estimator_svm_linear.cv_results_['std_test_score']]\n",
    "\n",
    "plt.figure(figsize=(8, 6))\n",
    "plt.errorbar(alphas, means, stds, fmt='o', lw=1)\n",
    "plt.plot(alphas, means)\n",
    "plt.xlabel('penalty')\n",
    "plt.ylabel('mean score')\n",
    "plt.title('SVC, linear kernel')\n",
    "plt.xscale('log')\n",
    "plt.show()\n",
    "\n",
    "print('\\nBest penalty for linear kernel --->   ',estimator_svm_linear.best_params_['svm_linear_clf__C'])\n",
    "\n",
    "svm_linear_pipe1.set_params(svm_linear_clf__C = estimator_svm_linear.best_params_['svm_linear_clf__C'])\n",
    "svm_linear_pipe1.fit(X_train,y_train)\n",
    "score_linearSVM=our_scoring_function(y_test,svm_linear_pipe1.predict(X_test))\n",
    "print ('\\nLinear kernel test score --->   ', score_linearSVM)\n",
    "\n",
    "\n",
    "# GAUSSIAN KERNEL\n",
    "estimators = []\n",
    "estimators.append(('normalizer', Normalizer()))\n",
    "estimators.append(('svm_gaussian_clf', SVC()))\n",
    "svm_gaussian_pipe1 = Pipeline(estimators)\n",
    "#No gridsearch on gamma, since 'auto' gave best results\n",
    "svm_gaussian_pipe1.set_params(svm_gaussian_clf__kernel='rbf', svm_gaussian_clf__gamma='auto')\n",
    "\n",
    "penalties = np.logspace(-5,3,5)\n",
    "\n",
    "\n",
    "parameters = {\n",
    "        'svm_gaussian_clf__C' : penalties\n",
    "}\n",
    "estimator_svm_gaussian = GridSearchCV(svm_gaussian_pipe1, parameters,scoring=our_scoring, cv=kfold)\n",
    "                  \n",
    "# evaluate the grid search and print best classifier\n",
    "estimator_svm_gaussian.fit(X_train,y_train)\n",
    "\n",
    "alphas = [x['svm_gaussian_clf__C'] for x in estimator_svm_gaussian.cv_results_['params']]\n",
    "means = [x for x in estimator_svm_gaussian.cv_results_['mean_test_score']]\n",
    "stds = [x for x in estimator_svm_gaussian.cv_results_['std_test_score']]\n",
    "\n",
    "plt.figure(figsize=(8, 6))\n",
    "plt.errorbar(alphas, means, stds, fmt='o', lw=1)\n",
    "plt.plot(alphas, means)\n",
    "plt.xlabel('penalty')\n",
    "plt.ylabel('mean score')\n",
    "plt.title('SVC, gaussian kernel')\n",
    "plt.xscale('log')\n",
    "plt.show()\n",
    "\n",
    "print('\\nBest penalty for Gaussian kernel --->   ',estimator_svm_gaussian.best_params_['svm_gaussian_clf__C'])\n",
    "\n",
    "svm_gaussian_pipe1.set_params(svm_gaussian_clf__C = estimator_svm_gaussian.best_params_['svm_gaussian_clf__C'])\n",
    "svm_gaussian_pipe1.fit(X_train,y_train)\n",
    "score_gaussianSVM=our_scoring_function(y_test,svm_gaussian_pipe1.predict(X_test))\n",
    "print ('\\nTest score --->   ', score_gaussianSVM)\n",
    "\n",
    "\n",
    "\n",
    "# LOGISTIC REGRESSION\n",
    "estimators = []\n",
    "estimators.append(('normalizer', Normalizer()))\n",
    "estimators.append(('log_reg', LogisticRegression()))\n",
    "log_reg_pipe1 = Pipeline(estimators)\n",
    "\n",
    "penalties = np.logspace(-5,3,5)\n",
    "\n",
    "\n",
    "parameters = {\n",
    "        'log_reg__C' : penalties\n",
    "}\n",
    "estimator_log_reg = GridSearchCV(log_reg_pipe1, parameters,scoring=our_scoring, cv=kfold)\n",
    "                  \n",
    "# evaluate the grid search and print best classifier\n",
    "estimator_log_reg.fit(X_train,y_train)\n",
    "\n",
    "alphas = [x['log_reg__C'] for x in estimator_log_reg.cv_results_['params']]\n",
    "means = [x for x in estimator_log_reg.cv_results_['mean_test_score']]\n",
    "stds = [x for x in estimator_log_reg.cv_results_['std_test_score']]\n",
    "\n",
    "plt.figure(figsize=(8, 6))\n",
    "plt.errorbar(alphas, means, stds, fmt='o', lw=1)\n",
    "plt.plot(alphas, means)\n",
    "plt.xlabel('penalty')\n",
    "plt.ylabel('mean score')\n",
    "plt.title('Logistic Regression')\n",
    "plt.xscale('log')\n",
    "plt.show()\n",
    "\n",
    "print('\\nBest penalty for Logistic Regression --->   ',estimator_log_reg.best_params_['log_reg__C'])\n",
    "\n",
    "log_reg_pipe1.set_params(log_reg__C = 1)\n",
    "log_reg_pipe1.fit(X_train,y_train)\n",
    "score_logreg=our_scoring_function(y_test,log_reg_pipe1.predict(X_test))\n",
    "print ('\\nLogistic regression test score --->   ', score_logreg)"
   ]
  },
  {
   "cell_type": "markdown",
   "metadata": {},
   "source": [
    "The performance of these methods is not extraordinary, nor much higher than the others. As in the previous steps though, by increasing the size of the training set the learning curve of the logistic regression is steeper and it remains computationally feasible."
   ]
  },
  {
   "cell_type": "code",
   "execution_count": 28,
   "metadata": {
    "collapsed": false
   },
   "outputs": [
    {
     "name": "stdout",
     "output_type": "stream",
     "text": [
      "[nltk_data] Downloading package wordnet to\n",
      "[nltk_data]     /home/INTRANET/mpietrob/nltk_data...\n",
      "[nltk_data]   Package wordnet is already up-to-date!\n",
      "Dictionary(17899 unique tokens: ['hard', 'believe', 'memory', 'tree', 'came']...)\n",
      "Finished Preprocessing\n",
      "Computing Learning Curve\n"
     ]
    },
    {
     "data": {
      "text/plain": [
       "<matplotlib.text.Text at 0x2b0a90e37b00>"
      ]
     },
     "execution_count": 28,
     "metadata": {},
     "output_type": "execute_result"
    },
    {
     "data": {
      "image/png": "[encoded data removed]",
      "text/plain": [
       "<matplotlib.figure.Figure at 0x2b0a7a9f8400>"
      ]
     },
     "metadata": {},
     "output_type": "display_data"
    }
   ],
   "source": [
    "import pandas as pd\n",
    "\n",
    "seed = 123\n",
    "\n",
    "df_complete = pd.read_json(path_or_buf = 'data/reviews_Digital_Music_5.json', lines=True)\n",
    "df = pd.DataFrame(df_complete[['asin', 'overall','reviewText']])\n",
    "df = df.ix[:20000,:]\n",
    "del df_complete\n",
    "\n",
    "five_stars = df['overall']\n",
    "\n",
    "df_refined=[]\n",
    "for item in df.ix[:,2]:\n",
    "    df_refined.append (item.replace('\\r',' ').replace('/n',' ').replace('.',' ')\\\n",
    "                           .replace(',',' ').replace('(',' ').replace(')',' ')\\\n",
    "                           .replace(\"'s\",' ').replace('\"',' ').replace('!',' ')\\\n",
    "                           .replace('?',' ').replace(\"'\",' ').replace('>',' ')\\\n",
    "                           .replace('$',' ').replace('-',' ').replace(';',' ')\\\n",
    "                           .replace(':',' ').replace('/',' ').replace('#',' '))\n",
    "    \n",
    "from gensim import corpora, models, matutils\n",
    "from gensim.parsing.preprocessing import STOPWORDS\n",
    "from nltk.stem import WordNetLemmatizer\n",
    "from nltk import download\n",
    "\n",
    "download('wordnet')\n",
    "\n",
    "tester = 1\n",
    "lemmatizer = WordNetLemmatizer()\n",
    "documents = df_refined\n",
    "\n",
    "# removing stopwords\n",
    "documents_no_stop = [[word for word in document.lower().split() if word not in STOPWORDS]\n",
    "         for document in documents]\n",
    "\n",
    "del documents\n",
    "\n",
    "# remove words that appear only once\n",
    "from collections import defaultdict\n",
    "threshold = 1 # frequency threshold\n",
    "frequency = defaultdict(int)\n",
    "for text in documents_no_stop:\n",
    "    for token in text:\n",
    "        frequency[token] += 1\n",
    "\n",
    "documents_no_stop_no_unique = [[token for token in text if frequency[token] > threshold] \n",
    "                               for text in documents_no_stop]\n",
    "\n",
    "del documents_no_stop\n",
    "\n",
    "# remove all numerics and tokens with numbers\n",
    "import re\n",
    "def hasNumbers(inputString):\n",
    "    return bool(re.search(r'\\d', inputString))\n",
    "documents_no_stop_no_unique_no_numeric = [[token for token in text if not (hasNumbers(token)) ] \n",
    "                                          for text in documents_no_stop_no_unique]\n",
    "\n",
    "del documents_no_stop_no_unique\n",
    "\n",
    "# lemmattizing tokens (better than stemming by taking word context into account)\n",
    "documents_no_stop_no_unique_no_numeric_lemmatize = [[lemmatizer.lemmatize(token) for token in text] \n",
    "                                                    for text in documents_no_stop_no_unique_no_numeric]\n",
    "\n",
    "del documents_no_stop_no_unique_no_numeric\n",
    "\n",
    "import enchant\n",
    "eng_dic = enchant.Dict(\"en_US\")\n",
    "\n",
    "# remove non-english words\n",
    "documents_no_stop_no_unique_no_numeric_lemmatize_english = [[token for token in text if (eng_dic.check(token)) ] \n",
    "                                                            for text in documents_no_stop_no_unique_no_numeric_lemmatize]\n",
    "\n",
    "del documents_no_stop_no_unique_no_numeric_lemmatize\n",
    "\n",
    "# create ready corpus\n",
    "ready_corpus = documents_no_stop_no_unique_no_numeric_lemmatize_english\n",
    "\n",
    "# build the dictionary and store it to disc for future use\n",
    "dictionary = corpora.Dictionary(ready_corpus)\n",
    "print(dictionary)\n",
    "\n",
    "# convert the corpus into bag of words \n",
    "corpus_bow = [dictionary.doc2bow(comment) for comment in ready_corpus]\n",
    "\n",
    "tfidf_transformer = models.TfidfModel(corpus_bow, normalize=True)\n",
    "\n",
    "# apply tfidf transformation to the bow corpus\n",
    "corpus_tfidf = tfidf_transformer [corpus_bow]\n",
    "\n",
    "# convert to a sparse and compatible format for dimensionality reduction using sklearn\n",
    "sparse_corpus_tfidf = matutils.corpus2csc(corpus_tfidf)\n",
    "sparse_corpus_tfidf_transpose = sparse_corpus_tfidf.transpose()\n",
    "\n",
    "print(\"Finished Preprocessing\")\n",
    "\n",
    "from sklearn.linear_model import LogisticRegression\n",
    "from sklearn.model_selection import learning_curve\n",
    "import matplotlib.pyplot as plt\n",
    "\n",
    "%matplotlib inline\n",
    "\n",
    "#Initialize Logistic Regression\n",
    "log_reg = LogisticRegression(C=3.6)\n",
    "\n",
    "\n",
    "#Compute and Plot learning curve\n",
    "print(\"Computing Learning Curve\")\n",
    "train_sizes, train_scores, test_scores = learning_curve(log_reg, sparse_corpus_tfidf_transpose, df.ix[:,1]\\\n",
    "                                                        ,scoring=our_scoring, train_sizes = np.linspace(0.1,1,10), cv=3)\n",
    "\n",
    "plt.plot(train_sizes/64706, test_scores.mean(axis=1))\n",
    "plt.title(\"Test Learning Curve\")"
   ]
  },
  {
   "cell_type": "markdown",
   "metadata": {
    "collapsed": true
   },
   "source": [
    "As anticipated, the more the better..."
   ]
  },
  {
   "cell_type": "code",
   "execution_count": 30,
   "metadata": {
    "collapsed": false
   },
   "outputs": [
    {
     "name": "stdout",
     "output_type": "stream",
     "text": [
      "[nltk_data] Downloading package wordnet to\n",
      "[nltk_data]     /home/INTRANET/mpietrob/nltk_data...\n",
      "[nltk_data]   Package wordnet is already up-to-date!\n",
      "Dictionary(10449 unique tokens: ['hard', 'believe', 'memory', 'tree', 'came']...)\n"
     ]
    },
    {
     "data": {
      "image/png": "[encoded data removed]",
      "text/plain": [
       "<matplotlib.figure.Figure at 0x2b0a6e1ca908>"
      ]
     },
     "metadata": {},
     "output_type": "display_data"
    },
    {
     "name": "stdout",
     "output_type": "stream",
     "text": [
      "\n",
      "Best number of components --->    333.0\n",
      "\n",
      "Logistic regression test score --->    -0.468531468531\n"
     ]
    }
   ],
   "source": [
    "import pandas as pd\n",
    "\n",
    "seed = 123\n",
    "\n",
    "df_complete = pd.read_json(path_or_buf = 'data/reviews_Digital_Music_5.json', lines=True)\n",
    "df = pd.DataFrame(df_complete[['asin', 'overall','reviewText']])\n",
    "df = df.ix[:5000,:]\n",
    "del df_complete\n",
    "\n",
    "five_stars = df['overall']\n",
    "\n",
    "df_refined=[]\n",
    "for item in df.ix[:,2]:\n",
    "    df_refined.append (item.replace('\\r',' ').replace('/n',' ').replace('.',' ')\\\n",
    "                           .replace(',',' ').replace('(',' ').replace(')',' ')\\\n",
    "                           .replace(\"'s\",' ').replace('\"',' ').replace('!',' ')\\\n",
    "                           .replace('?',' ').replace(\"'\",' ').replace('>',' ')\\\n",
    "                           .replace('$',' ').replace('-',' ').replace(';',' ')\\\n",
    "                           .replace(':',' ').replace('/',' ').replace('#',' '))\n",
    "    \n",
    "from gensim import corpora, models, matutils\n",
    "from gensim.parsing.preprocessing import STOPWORDS\n",
    "from nltk.stem import WordNetLemmatizer\n",
    "from nltk import download\n",
    "\n",
    "download('wordnet')\n",
    "\n",
    "tester = 1\n",
    "lemmatizer = WordNetLemmatizer()\n",
    "documents = df_refined\n",
    "\n",
    "# removing stopwords\n",
    "documents_no_stop = [[word for word in document.lower().split() if word not in STOPWORDS]\n",
    "         for document in documents]\n",
    "\n",
    "del documents\n",
    "\n",
    "# remove words that appear only once\n",
    "from collections import defaultdict\n",
    "threshold = 1 # frequency threshold\n",
    "frequency = defaultdict(int)\n",
    "for text in documents_no_stop:\n",
    "    for token in text:\n",
    "        frequency[token] += 1\n",
    "\n",
    "documents_no_stop_no_unique = [[token for token in text if frequency[token] > threshold] \n",
    "                               for text in documents_no_stop]\n",
    "\n",
    "del documents_no_stop\n",
    "\n",
    "# remove all numerics and tokens with numbers\n",
    "import re\n",
    "def hasNumbers(inputString):\n",
    "    return bool(re.search(r'\\d', inputString))\n",
    "documents_no_stop_no_unique_no_numeric = [[token for token in text if not (hasNumbers(token)) ] \n",
    "                                          for text in documents_no_stop_no_unique]\n",
    "\n",
    "del documents_no_stop_no_unique\n",
    "\n",
    "# lemmattizing tokens (better than stemming by taking word context into account)\n",
    "documents_no_stop_no_unique_no_numeric_lemmatize = [[lemmatizer.lemmatize(token) for token in text] \n",
    "                                                    for text in documents_no_stop_no_unique_no_numeric]\n",
    "\n",
    "del documents_no_stop_no_unique_no_numeric\n",
    "\n",
    "import enchant\n",
    "eng_dic = enchant.Dict(\"en_US\")\n",
    "\n",
    "# remove non-english words\n",
    "documents_no_stop_no_unique_no_numeric_lemmatize_english = [[token for token in text if (eng_dic.check(token)) ] \n",
    "                                                            for text in documents_no_stop_no_unique_no_numeric_lemmatize]\n",
    "\n",
    "del documents_no_stop_no_unique_no_numeric_lemmatize\n",
    "\n",
    "# create ready corpus\n",
    "ready_corpus = documents_no_stop_no_unique_no_numeric_lemmatize_english\n",
    "\n",
    "# build the dictionary and store it to disc for future use\n",
    "dictionary = corpora.Dictionary(ready_corpus)\n",
    "print(dictionary)\n",
    "\n",
    "# convert the corpus into bag of words \n",
    "corpus_bow = [dictionary.doc2bow(comment) for comment in ready_corpus]\n",
    "\n",
    "tfidf_transformer = models.TfidfModel(corpus_bow, normalize=True)\n",
    "\n",
    "# apply tfidf transformation to the bow corpus\n",
    "corpus_tfidf = tfidf_transformer [corpus_bow]\n",
    "\n",
    "# convert to a sparse and compatible format for dimensionality reduction using sklearn\n",
    "sparse_corpus_tfidf = matutils.corpus2csc(corpus_tfidf)\n",
    "sparse_corpus_tfidf_transpose = sparse_corpus_tfidf.transpose()\n",
    "\n",
    "from sklearn.model_selection import train_test_split\n",
    "X_train, X_test, y_train, y_test = train_test_split(sparse_corpus_tfidf_transpose, df.ix[:,1], test_size = 0.2, random_state = seed)\n",
    "\n",
    "from sklearn.linear_model import LogisticRegression\n",
    "import matplotlib.pyplot as plt\n",
    "from sklearn.preprocessing import Normalizer\n",
    "from sklearn.decomposition import KernelPCA\n",
    "from sklearn.pipeline import Pipeline\n",
    "from sklearn.model_selection import GridSearchCV\n",
    "import numpy as np\n",
    "from sklearn.model_selection import KFold\n",
    "from sklearn.metrics import confusion_matrix\n",
    "%matplotlib inline\n",
    "\n",
    "def our_scoring_function(y_true,y_pred):\n",
    "    penalties=np.zeros([5,5])\n",
    "    for i in np.arange(5):\n",
    "        for j in np.arange(5):\n",
    "            penalties[i,j]= -np.abs(i-j)\n",
    "    conf_mat = confusion_matrix(y_true, y_pred,labels=np.arange(1,6))/np.shape(y_true)[0]\n",
    "    return np.sum(penalties*conf_mat)\n",
    "    \n",
    "\n",
    "from sklearn.metrics import make_scorer\n",
    "our_scoring= make_scorer(our_scoring_function)\n",
    "\n",
    "\n",
    "#Initialize K-Fold for cross validation\n",
    "K = 5\n",
    "kfold = KFold(n_splits=K, random_state=seed)\n",
    "\n",
    "\n",
    "# LOGISTIC REGRESSION\n",
    "estimators = []\n",
    "estimators.append(('reducer', KernelPCA(kernel=\"cosine\", random_state=seed)))\n",
    "estimators.append(('normalizer', Normalizer()))\n",
    "estimators.append(('log_reg', LogisticRegression(C=3.6)))\n",
    "log_reg_pipe1 = Pipeline(estimators)\n",
    "log_reg_pipe1.set_params()\n",
    "\n",
    "components = np.round(np.linspace(100,800,4))\n",
    "\n",
    "\n",
    "parameters = {\n",
    "        'reducer__n_components' : components\n",
    "}\n",
    "estimator_log_reg = GridSearchCV(log_reg_pipe1, parameters,scoring=our_scoring, cv=kfold)\n",
    "                  \n",
    "# evaluate the grid search and print best classifier\n",
    "estimator_log_reg.fit(X_train,y_train)\n",
    "\n",
    "alphas = [x['reducer__n_components'] for x in estimator_log_reg.cv_results_['params']]\n",
    "means = [x for x in estimator_log_reg.cv_results_['mean_test_score']]\n",
    "stds = [x for x in estimator_log_reg.cv_results_['std_test_score']]\n",
    "\n",
    "plt.figure(figsize=(8, 6))\n",
    "plt.errorbar(alphas, means, stds, fmt='o', lw=1)\n",
    "plt.plot(alphas, means)\n",
    "plt.xlabel('number of components')\n",
    "plt.ylabel('mean score')\n",
    "plt.show()\n",
    "\n",
    "print('\\nBest number of components --->   ',estimator_log_reg.best_params_['reducer__n_components'])\n",
    "\n",
    "log_reg_pipe1.set_params(log_reg__C = 3.6)\n",
    "log_reg_pipe1.fit(X_train,y_train)\n",
    "score_logreg=our_scoring_function(y_test,log_reg_pipe1.predict(X_test))\n",
    "print ('\\nLogistic regression test score --->   ', score_logreg)"
   ]
  },
  {
   "cell_type": "markdown",
   "metadata": {},
   "source": [
    "We met the same problem of step one, we had to choose between more data and dimensionality reduction. Once again we opted for more data. As a conclusion we decided once again to use the logistic regression to predict the final values. We had also considered ensemble voting methods but they were too slow and the learning curve effect allowed the logistic regression to outerform them."
   ]
  }
 ],
 "metadata": {
  "kernelspec": {
   "display_name": "Python 3",
   "language": "python",
   "name": "python3"
  },
  "language_info": {
   "codemirror_mode": {
    "name": "ipython",
    "version": 3
   },
   "file_extension": ".py",
   "mimetype": "text/x-python",
   "name": "python",
   "nbconvert_exporter": "python",
   "pygments_lexer": "ipython3",
   "version": "3.6.0"
  }
 },
 "nbformat": 4,
 "nbformat_minor": 2
}
